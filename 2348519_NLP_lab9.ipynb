{
  "nbformat": 4,
  "nbformat_minor": 0,
  "metadata": {
    "colab": {
      "provenance": [],
      "authorship_tag": "ABX9TyN6I4pl0IWpCZgVIyWGwic7",
      "include_colab_link": true
    },
    "kernelspec": {
      "name": "python3",
      "display_name": "Python 3"
    },
    "language_info": {
      "name": "python"
    }
  },
  "cells": [
    {
      "cell_type": "markdown",
      "metadata": {
        "id": "view-in-github",
        "colab_type": "text"
      },
      "source": [
        "<a href=\"https://colab.research.google.com/github/Guhan2348519/demo/blob/main/2348519_NLP_lab9.ipynb\" target=\"_parent\"><img src=\"https://colab.research.google.com/assets/colab-badge.svg\" alt=\"Open In Colab\"/></a>"
      ]
    },
    {
      "cell_type": "code",
      "execution_count": 1,
      "metadata": {
        "id": "Vpbnh6uBPZ94",
        "outputId": "856d5fef-3be2-499f-c4da-f07a3f140d99",
        "colab": {
          "base_uri": "https://localhost:8080/"
        }
      },
      "outputs": [
        {
          "output_type": "stream",
          "name": "stdout",
          "text": [
            "There once was a unicorn. It was known for its magical forest. But it had a secret: found a hidden treasure.\n"
          ]
        }
      ],
      "source": [
        "\n",
        "import random\n",
        "\n",
        "def generate_story(keywords):\n",
        "    story_templates = [\n",
        "        \"Once upon a time, there was a {}. It lived in a {}. One day, it {}.\",\n",
        "        \"In a {}. {} lived happily. But one day, {}. That's how the story goes.\",\n",
        "        \"Long ago, in a land of {}, there was a {}. It loved to {}. But one day, {}.\",\n",
        "        \"There once was a {}. It was known for its {}. But it had a secret: {}.\"\n",
        "    ]\n",
        "    story_template = random.choice(story_templates)\n",
        "    story = story_template.format(*keywords)\n",
        "    return story\n",
        "\n",
        "# Example usage:\n",
        "keywords = [\"unicorn\", \"magical forest\", \"found a hidden treasure\"]\n",
        "print(generate_story(keywords))"
      ]
    },
    {
      "cell_type": "code",
      "source": [
        "# A program to find minimum number operations to convert str1 to str2\n",
        "\n",
        "\n",
        "def editDistance(str1, str2, m, n):\n",
        "\n",
        "    # If first string is empty, the only option is to\n",
        "    # insert all characters of second string into first\n",
        "    if m == 0:\n",
        "        return n\n",
        "\n",
        "    # If second string is empty, the only option is to\n",
        "    # remove all characters of first string\n",
        "    if n == 0:\n",
        "        return m\n",
        "\n",
        "    # If last characters of two strings are same, nothing\n",
        "    # much to do. Ignore last characters and get count for\n",
        "    # remaining strings.\n",
        "    if str1[m-1] == str2[n-1]:\n",
        "        return editDistance(str1, str2, m-1, n-1)\n",
        "\n",
        "    # If last characters are not same, consider all three\n",
        "    # operations on last character of first string, recursively\n",
        "    # compute minimum cost for all three operations and take\n",
        "    # minimum of three values.\n",
        "    return 1 + min(editDistance(str1, str2, m, n-1),    # Insert\n",
        "                   editDistance(str1, str2, m-1, n),    # Remove\n",
        "                   editDistance(str1, str2, m-1, n-1)    # Replace\n",
        "                   )\n",
        "\n",
        "\n",
        "# Driver code\n",
        "str1 = \"Sunday\"\n",
        "str2 = \"Monday\"\n",
        "print(editDistance(str1, str2, len(str1), len(str2)))\n"
      ],
      "metadata": {
        "id": "aLP6NJdQAjXY",
        "outputId": "e9da2aeb-9c67-4b97-f1eb-bc7ec98eb7b6",
        "colab": {
          "base_uri": "https://localhost:8080/"
        }
      },
      "execution_count": 2,
      "outputs": [
        {
          "output_type": "stream",
          "name": "stdout",
          "text": [
            "2\n"
          ]
        }
      ]
    }
  ]
}