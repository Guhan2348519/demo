{
  "nbformat": 4,
  "nbformat_minor": 0,
  "metadata": {
    "colab": {
      "provenance": [],
      "mount_file_id": "1MG5xCAg5iF_lIIT-KIw624Mbrgmx2HC9",
      "authorship_tag": "ABX9TyNH527wdmb65j8WCKIwkSc9",
      "include_colab_link": true
    },
    "kernelspec": {
      "name": "python3",
      "display_name": "Python 3"
    },
    "language_info": {
      "name": "python"
    }
  },
  "cells": [
    {
      "cell_type": "markdown",
      "metadata": {
        "id": "view-in-github",
        "colab_type": "text"
      },
      "source": [
        "<a href=\"https://colab.research.google.com/github/Guhan2348519/demo/blob/main/2348519_Sampling_and_quantization_techniques.ipynb\" target=\"_parent\"><img src=\"https://colab.research.google.com/assets/colab-badge.svg\" alt=\"Open In Colab\"/></a>"
      ]
    },
    {
      "cell_type": "code",
      "execution_count": 6,
      "metadata": {
        "colab": {
          "base_uri": "https://localhost:8080/"
        },
        "id": "H-xHct2N0Yxv",
        "outputId": "7aa6173d-4ffd-48f1-dc86-201a44d519b4"
      },
      "outputs": [
        {
          "output_type": "execute_result",
          "data": {
            "text/plain": [
              "array([[[ 81, 110, 114],\n",
              "        [ 81, 110, 114],\n",
              "        [ 84, 113, 117],\n",
              "        ...,\n",
              "        [ 83, 140, 166],\n",
              "        [108, 169, 195],\n",
              "        [108, 169, 195]],\n",
              "\n",
              "       [[ 81, 110, 114],\n",
              "        [ 81, 110, 114],\n",
              "        [ 84, 113, 117],\n",
              "        ...,\n",
              "        [ 83, 140, 166],\n",
              "        [108, 169, 195],\n",
              "        [108, 169, 195]],\n",
              "\n",
              "       [[ 96, 127, 130],\n",
              "        [ 96, 127, 130],\n",
              "        [ 77, 108, 111],\n",
              "        ...,\n",
              "        [ 69, 125, 154],\n",
              "        [ 60, 120, 149],\n",
              "        [ 60, 120, 149]],\n",
              "\n",
              "       ...,\n",
              "\n",
              "       [[  0,  14,  59],\n",
              "        [  0,  14,  59],\n",
              "        [  5,  30,  74],\n",
              "        ...,\n",
              "        [ 18,  22,  41],\n",
              "        [ 20,  24,  43],\n",
              "        [ 20,  24,  43]],\n",
              "\n",
              "       [[ 31,  47,  89],\n",
              "        [ 31,  47,  89],\n",
              "        [ 18,  40,  81],\n",
              "        ...,\n",
              "        [ 14,  21,  41],\n",
              "        [ 31,  37,  60],\n",
              "        [ 31,  37,  60]],\n",
              "\n",
              "       [[ 31,  47,  89],\n",
              "        [ 31,  47,  89],\n",
              "        [ 18,  40,  81],\n",
              "        ...,\n",
              "        [ 14,  21,  41],\n",
              "        [ 31,  37,  60],\n",
              "        [ 31,  37,  60]]], dtype=uint8)"
            ]
          },
          "metadata": {},
          "execution_count": 6
        }
      ],
      "source": [
        "import numpy as np\n",
        "import cv2\n",
        "from matplotlib import pyplot as plt\n",
        "img = cv2.imread(\"/content/drive/MyDrive/cvimage.jpeg\", -1);\n",
        "h, w, c = img.shape;\n",
        "img_n = cv2.resize(img, (w//2, h//2), interpolation = cv2.INTER_NEAREST);\n",
        "img_n = cv2.resize(img_n, (w, h), interpolation = cv2.INTER_NEAREST);\n",
        "img_n"
      ]
    },
    {
      "cell_type": "code",
      "source": [
        "img_b = cv2.resize(img, (w//2, h//2), interpolation = cv2.INTER_LINEAR);\n",
        "img_b = cv2.resize(img_b, (w, h), interpolation = cv2.INTER_LINEAR);"
      ],
      "metadata": {
        "id": "C2Dk5h6B6aMH"
      },
      "execution_count": 4,
      "outputs": []
    },
    {
      "cell_type": "code",
      "source": [],
      "metadata": {
        "id": "PhvNhUrD6Z92"
      },
      "execution_count": null,
      "outputs": []
    }
  ]
}