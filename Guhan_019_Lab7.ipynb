{
  "nbformat": 4,
  "nbformat_minor": 0,
  "metadata": {
    "colab": {
      "provenance": [],
      "authorship_tag": "ABX9TyMeF0aPv3S1+2wrovEX23X0",
      "include_colab_link": true
    },
    "kernelspec": {
      "name": "python3",
      "display_name": "Python 3"
    },
    "language_info": {
      "name": "python"
    }
  },
  "cells": [
    {
      "cell_type": "markdown",
      "metadata": {
        "id": "view-in-github",
        "colab_type": "text"
      },
      "source": [
        "<a href=\"https://colab.research.google.com/github/Guhan2348519/demo/blob/main/Guhan_019_Lab7.ipynb\" target=\"_parent\"><img src=\"https://colab.research.google.com/assets/colab-badge.svg\" alt=\"Open In Colab\"/></a>"
      ]
    },
    {
      "cell_type": "code",
      "source": [
        "# documents\n",
        "doc1, doc2='I like dogs.', 'I hate dogs.'\n",
        "\n",
        "# Split the documents and create tokens\n",
        "doc1_tokens=set(doc1.lower().split())\n",
        "doc2_tokens=set(doc2.lower().split())\n",
        "\n",
        "#Print the tokens\n",
        "print(doc1_tokens,doc2_tokens)\n",
        "\n",
        "\n",
        "# Calculate the Jaccard Similarity\n",
        "jaccard_similarity=  len(doc1_tokens.intersection(doc2_tokens))/len(doc1_tokens.union(doc2_tokens))\n",
        "\n",
        "# Print the Jaccard Simialrity score\n",
        "print(jaccard_similarity)"
      ],
      "metadata": {
        "id": "HZ5gazTM3BGW",
        "outputId": "38d3f311-5188-4ee7-9097-3bdcb6c151a9",
        "colab": {
          "base_uri": "https://localhost:8080/"
        }
      },
      "execution_count": 1,
      "outputs": [
        {
          "output_type": "stream",
          "name": "stdout",
          "text": [
            "{'dogs.', 'like', 'i'} {'dogs.', 'hate', 'i'}\n",
            "0.5\n"
          ]
        }
      ]
    },
    {
      "cell_type": "code",
      "source": [
        "# Tokenize and pad the reviews\n",
        "tokenizer = keras.preprocessing.text.Tokenizer(num_words=10000, oov_token='<OOV>')\n",
        "train_sentences, train_labels = zip(*[(sent.numpy().decode('utf8'), label.numpy()) for sent, label in train_data])\n",
        "tokenizer.fit_on_texts(train_sentences)\n",
        "train_sequences = tokenizer.texts_to_sequences(train_sentences)\n",
        "train_padded = keras.preprocessing.sequence.pad_sequences(train_sequences, maxlen=100, padding='post', truncating='post')\n",
        "\n",
        "test_sentences, test_labels = zip(*[(sent.numpy().decode('utf8'), label.numpy()) for sent, label in test_data])\n",
        "test_sequences = tokenizer.texts_to_sequences(test_sentences)\n",
        "test_padded = keras.preprocessing.sequence.pad_sequences(test_sequences, maxlen=100, padding='post', truncating='post')\n",
        "\n",
        "train_labels = np.array(train_labels)\n",
        "test_labels = np.array(test_labels)"
      ],
      "metadata": {
        "id": "rdlbEVI75bGg"
      },
      "execution_count": null,
      "outputs": []
    },
    {
      "cell_type": "code",
      "source": [
        "model = keras.models.Sequential([\n",
        "    keras.layers.Embedding(10000, 32), # Reduced embedding dimension\n",
        "    keras.layers.Dropout(0.5), # Added dropout\n",
        "    keras.layers.SimpleRNN(32, kernel_regularizer=keras.regularizers.l2(0.001)), # L2 regularization\n",
        "    keras.layers.Dense(1, activation='sigmoid')\n",
        "])\n",
        "\n",
        "model.compile(loss=\"binary_crossentropy\", optimizer=\"adam\", metrics=[\"accuracy\"])\n",
        "\n",
        "# Adding early stopping callback\n",
        "early_stop = keras.callbacks.EarlyStopping(monitor='val_loss', patience=3)\n",
        "\n",
        "history = model.fit(train_padded, train_labels, epochs=10, validation_data=(test_padded, test_labels), callbacks=[early_stop])"
      ],
      "metadata": {
        "id": "BKxBOFq_6EOS"
      },
      "execution_count": null,
      "outputs": []
    },
    {
      "cell_type": "code",
      "source": [],
      "metadata": {
        "id": "rm48Ym_D6HMr"
      },
      "execution_count": null,
      "outputs": []
    },
    {
      "cell_type": "code",
      "source": [
        "# Let's import text feature extraction TfidfVectorizer\n",
        "from sklearn.feature_extraction.text import TfidfVectorizer\n",
        "\n",
        "# Import Cosien Similarity metric\n",
        "from sklearn.metrics.pairwise import cosine_similarity\n",
        "\n",
        "\n",
        "docs=['I like dogs.', 'I hate dogs.']\n",
        "\n",
        "# Create TFidfVectorizer\n",
        "tfidf= TfidfVectorizer()\n",
        "\n",
        "# Fit and transform the documents\n",
        "tfidf_vector = tfidf.fit_transform(docs)\n",
        "\n",
        "# Compute cosine similarity\n",
        "cosine_sim=cosine_similarity(tfidf_vector, tfidf_vector)\n",
        "\n",
        "# Print the cosine similarity\n",
        "print(cosine_sim)"
      ],
      "metadata": {
        "id": "SiEEVrAG4MSu",
        "outputId": "932125cd-b672-473c-acc0-baf3d2bf8114",
        "colab": {
          "base_uri": "https://localhost:8080/"
        }
      },
      "execution_count": 3,
      "outputs": [
        {
          "output_type": "stream",
          "name": "stdout",
          "text": [
            "[[1.         0.33609693]\n",
            " [0.33609693 1.        ]]\n"
          ]
        }
      ]
    },
    {
      "cell_type": "code",
      "source": [
        "from keras.layers import Bidirectional, LSTM\n",
        "\n",
        "model = keras.models.Sequential([\n",
        "    keras.layers.Embedding(10000, 32),\n",
        "    Bidirectional(LSTM(32, dropout=0.5, recurrent_dropout=0.5, kernel_regularizer=keras.regularizers.l2(0.001))),\n",
        "    keras.layers.Dense(1, activation='sigmoid')\n",
        "])\n",
        "\n",
        "model.compile(loss=\"binary_crossentropy\", optimizer=keras.optimizers.Adam(learning_rate=0.001), metrics=[\"accuracy\"])\n",
        "\n",
        "early_stop = keras.callbacks.EarlyStopping(monitor='val_loss', patience=3)\n",
        "\n",
        "history = model.fit(train_padded, train_labels, epochs=10, validation_data=(test_padded, test_labels), callbacks=[early_stop])"
      ],
      "metadata": {
        "id": "YBgpQsVh5Y7q"
      },
      "execution_count": null,
      "outputs": []
    }
  ]
}