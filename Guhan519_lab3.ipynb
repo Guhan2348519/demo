{
  "nbformat": 4,
  "nbformat_minor": 0,
  "metadata": {
    "colab": {
      "provenance": [],
      "authorship_tag": "ABX9TyN3dmXThINr7TKbJLcuwS0P",
      "include_colab_link": true
    },
    "kernelspec": {
      "name": "python3",
      "display_name": "Python 3"
    },
    "language_info": {
      "name": "python"
    }
  },
  "cells": [
    {
      "cell_type": "markdown",
      "metadata": {
        "id": "view-in-github",
        "colab_type": "text"
      },
      "source": [
        "<a href=\"https://colab.research.google.com/github/Guhan2348519/demo/blob/main/Guhan519_lab3.ipynb\" target=\"_parent\"><img src=\"https://colab.research.google.com/assets/colab-badge.svg\" alt=\"Open In Colab\"/></a>"
      ]
    },
    {
      "cell_type": "code",
      "execution_count": 16,
      "metadata": {
        "id": "JyYCg55VXtD-"
      },
      "outputs": [],
      "source": [
        "import inltk\n",
        "import nltk\n",
        "from nltk import word_tokenize\n"
      ]
    },
    {
      "cell_type": "code",
      "source": [
        "tokenize_spanish = nltk.data.load('tokenizers/punkt/PY3/spanish.pickle')"
      ],
      "metadata": {
        "id": "Y19v3F2NcH_w"
      },
      "execution_count": 20,
      "outputs": []
    },
    {
      "cell_type": "code",
      "source": [
        "Sample_text = \" Érase una vez tres hombres ciegos que eran muy amigos, los cuales se conocían desde que eran muy jóvenes. A pesar de ser ciegos eran completamente funcionales y no tenían problemas en su día a día. Es más, se podría decir que eran tres hombres muy sabios, que siempre se reunían en las tardes debajo de un roble para discutir sobre temas muy profundos y complejos: a veces de ciencia, a veces de literatura, otras veces de política, otras de filosofía…Un día se encontraban los tres descansando cuando escucharon unos ruidos de pasos que hacían temblar la tierra. “¿Un terremoto?” Se preguntaron. Pero nada de eso. Se trataba de un viajero que llevaba un elefante con una correa al cuello como si se tratara de un perro:\""
      ],
      "metadata": {
        "id": "mhkuWqlbcMZl"
      },
      "execution_count": 24,
      "outputs": []
    },
    {
      "cell_type": "code",
      "source": [
        "nltk.download('punkt')"
      ],
      "metadata": {
        "colab": {
          "base_uri": "https://localhost:8080/"
        },
        "id": "GcKEPmdFbtoY",
        "outputId": "421273ad-0cde-44a8-de27-ec443ceae238"
      },
      "execution_count": 25,
      "outputs": [
        {
          "output_type": "stream",
          "name": "stderr",
          "text": [
            "[nltk_data] Downloading package punkt to /root/nltk_data...\n",
            "[nltk_data]   Package punkt is already up-to-date!\n"
          ]
        },
        {
          "output_type": "execute_result",
          "data": {
            "text/plain": [
              "True"
            ]
          },
          "metadata": {},
          "execution_count": 25
        }
      ]
    },
    {
      "cell_type": "code",
      "source": [
        "from nltk import tokenize\n",
        "text = 'काम को समय पर पूरा करना सबसे अच्छा है।'\n",
        "text_tokenizer = word_tokenize(text)\n",
        "print(text_tokenizer)"
      ],
      "metadata": {
        "colab": {
          "base_uri": "https://localhost:8080/"
        },
        "id": "qu6nuQNpa6k_",
        "outputId": "805012c7-9dbd-40b1-e8ec-5b978a36ec80"
      },
      "execution_count": 19,
      "outputs": [
        {
          "output_type": "stream",
          "name": "stdout",
          "text": [
            "['काम', 'को', 'समय', 'पर', 'पूरा', 'करना', 'सबसे', 'अच्छा', 'है।']\n"
          ]
        }
      ]
    },
    {
      "cell_type": "code",
      "source": [
        "tokenize_spanish.tokenize(Sample_text)"
      ],
      "metadata": {
        "colab": {
          "base_uri": "https://localhost:8080/"
        },
        "id": "zIwq_fMSb7wz",
        "outputId": "629c7dfc-4dec-41e7-d14d-ec43140319b0"
      },
      "execution_count": 26,
      "outputs": [
        {
          "output_type": "execute_result",
          "data": {
            "text/plain": [
              "[' Érase una vez tres hombres ciegos que eran muy amigos, los cuales se conocían desde que eran muy jóvenes.',\n",
              " 'A pesar de ser ciegos eran completamente funcionales y no tenían problemas en su día a día.',\n",
              " 'Es más, se podría decir que eran tres hombres muy sabios, que siempre se reunían en las tardes debajo de un roble para discutir sobre temas muy profundos y complejos: a veces de ciencia, a veces de literatura, otras veces de política, otras de filosofía…Un día se encontraban los tres descansando cuando escucharon unos ruidos de pasos que hacían temblar la tierra.',\n",
              " '“¿Un terremoto?” Se preguntaron.',\n",
              " 'Pero nada de eso.',\n",
              " 'Se trataba de un viajero que llevaba un elefante con una correa al cuello como si se tratara de un perro:']"
            ]
          },
          "metadata": {},
          "execution_count": 26
        }
      ]
    },
    {
      "cell_type": "code",
      "source": [],
      "metadata": {
        "id": "fzrUHp28c_w1"
      },
      "execution_count": null,
      "outputs": []
    }
  ]
}