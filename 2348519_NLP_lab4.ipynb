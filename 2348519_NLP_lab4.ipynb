{
  "nbformat": 4,
  "nbformat_minor": 0,
  "metadata": {
    "colab": {
      "provenance": [],
      "authorship_tag": "ABX9TyMg/AyVF4viGR2BYZSb4edS",
      "include_colab_link": true
    },
    "kernelspec": {
      "name": "python3",
      "display_name": "Python 3"
    },
    "language_info": {
      "name": "python"
    }
  },
  "cells": [
    {
      "cell_type": "markdown",
      "metadata": {
        "id": "view-in-github",
        "colab_type": "text"
      },
      "source": [
        "<a href=\"https://colab.research.google.com/github/Guhan2348519/demo/blob/main/2348519_NLP_lab4.ipynb\" target=\"_parent\"><img src=\"https://colab.research.google.com/assets/colab-badge.svg\" alt=\"Open In Colab\"/></a>"
      ]
    },
    {
      "cell_type": "code",
      "source": [
        "from nltk.corpus import wordnet"
      ],
      "metadata": {
        "id": "Bs4edHEOaAcc"
      },
      "execution_count": 2,
      "outputs": []
    },
    {
      "cell_type": "code",
      "source": [
        "from nltk.corpus import wordnet\n",
        "words_to_check = [\"square\", \"bear\", \"set\", \"lead\", \"criteria\"]\n",
        "for word in words_to_check:\n",
        "    synonyms = []\n",
        "    antonyms = []\n",
        "    for syn_set in wordnet.synsets(word):\n",
        "        for l in syn_set.lemmas():\n",
        "            synonyms.append(l.name())\n",
        "            if l.antonyms():\n",
        "                antonyms.append(l.antonyms()[0].name())\n",
        "    synonyms_set = set(synonyms)\n",
        "    antonyms_set = set(antonyms)\n",
        "    print(f\"Word: {word}\")\n",
        "    print(\"Synonyms:\", synonyms_set)\n",
        "    print(\"Antonyms:\", antonyms_set)\n",
        "    print(\"\\n\")"
      ],
      "metadata": {
        "colab": {
          "base_uri": "https://localhost:8080/"
        },
        "id": "7QADe_IhVSrG",
        "outputId": "bb0138a8-6652-4428-fc7e-433aff60c5ae"
      },
      "execution_count": null,
      "outputs": [
        {
          "output_type": "stream",
          "name": "stdout",
          "text": [
            "Word: square\n",
            "Synonyms: {'square_up', 'squarely', 'square', 'foursquare', 'solid', 'second_power', 'hearty', 'public_square', 'feather', 'satisfying', 'substantial', 'straight', 'lame', 'straightforward', 'square_toes'}\n",
            "Antonyms: {'round', 'crooked'}\n",
            "\n",
            "\n",
            "Word: bear\n",
            "Synonyms: {'yield', 'bear', 'take_over', 'tolerate', 'stomach', 'deport', 'expect', 'abide', 'comport', 'birth', 'support', 'deliver', 'suffer', 'brook', 'accept', 'have_a_bun_in_the_oven', 'gestate', 'stand', 'put_up', 'conduct', 'stick_out', 'give_birth', 'digest', 'hold', 'assume', 'have', 'turn_out', 'behave', 'endure', 'wear', 'pay', 'carry', 'acquit', 'contain'}\n",
            "Antonyms: {'bull'}\n",
            "\n",
            "\n",
            "Word: set\n",
            "Synonyms: {'go_down', 'Seth', 'determine', 'put', 'band', 'congeal', 'fixed', 'laid', 'jell', 'localize', 'rig', 'solidification', 'ready', 'arrange', 'lay_out', 'coiffe', 'bent', 'set_up', 'placed', 'set', 'do', 'dictated', 'lay', 'readiness', 'define', 'stage_set', 'fix', 'located', 'fit', 'hardened', 'position', 'sic', 'coif', 'circle', 'hardening', 'pose', 'curing', 'limit', 'localise', 'mark', 'primed', 'go_under', 'rigid', 'countersink', 'gear_up', 'adjust', 'lot', 'exercise_set', 'plant', 'typeset', 'determined', 'dress', 'solidifying', 'place', 'correct', 'fructify', 'coiffure', 'Set', 'prepare', 'situated', 'specify'}\n",
            "Antonyms: {'rise'}\n",
            "\n",
            "\n",
            "Word: lead\n",
            "Synonyms: {'precede', 'spark_advance', 'principal', 'take', 'Pb', 'jumper_cable', 'conduce', 'contribute', 'moderate', 'tether', 'jumper_lead', 'booster_cable', 'leading', 'lede', 'chair', 'lead-in', 'confidential_information', 'leave', 'top', 'pencil_lead', 'conduct', 'lead_story', 'direct', 'lead', 'wind', 'extend', 'atomic_number_82', 'result', 'head', 'leash', 'guide', 'track', 'run', 'steer', 'star', 'tip', 'trail', 'hint', 'go', 'pass'}\n",
            "Antonyms: {'follow', 'deficit'}\n",
            "\n",
            "\n",
            "Word: criteria\n",
            "Synonyms: {'touchstone', 'measure', 'standard', 'criterion'}\n",
            "Antonyms: set()\n",
            "\n",
            "\n"
          ]
        }
      ]
    },
    {
      "cell_type": "markdown",
      "source": [
        "a) Find the 3rd meaning of the word in the list."
      ],
      "metadata": {
        "id": "emmhJ6EkbJGK"
      }
    },
    {
      "cell_type": "code",
      "source": [
        "for word in words_to_check:\n",
        "    synsets = wordnet.synsets(word)\n",
        "    if len(synsets) >= 3:\n",
        "        third_meaning = synsets[2]\n",
        "        print(f\"3rd Meaning of '{word}': {third_meaning.definition()}\")\n",
        "    else:\n",
        "        print(f\"There are less than 3 meanings for '{word}' in WordNet.\")\n",
        "\n"
      ],
      "metadata": {
        "colab": {
          "base_uri": "https://localhost:8080/"
        },
        "id": "kpS1wssHWLXC",
        "outputId": "1b1705a4-f835-4e5f-bd6d-68092c8124bc"
      },
      "execution_count": null,
      "outputs": [
        {
          "output_type": "stream",
          "name": "stdout",
          "text": [
            "3rd Meaning of 'square': an open area at the meeting of two or more streets\n",
            "3rd Meaning of 'bear': have\n",
            "3rd Meaning of 'set': several exercises intended to be done in series\n",
            "3rd Meaning of 'lead': evidence pointing to a possible solution\n",
            "There are less than 3 meanings for 'criteria' in WordNet.\n"
          ]
        }
      ]
    },
    {
      "cell_type": "code",
      "source": [
        "from nltk.corpus import wordnet\n",
        "\n",
        "# Function to find hypernyms of a word\n",
        "def get_hypernyms(word):\n",
        "    hypernyms = set()\n",
        "    synsets = wordnet.synsets(word)\n",
        "    for synset in synsets:\n",
        "        for hypernym in synset.hypernyms():\n",
        "            for lemma in hypernym.lemmas():\n",
        "                hypernyms.add(lemma.name())\n",
        "    return hypernyms\n",
        "\n",
        "words_to_check = [\"bear\", \"set\", \"square\", \"lead\", \"criteria\"]\n",
        "for word in words_to_check:\n",
        "    synonyms = []\n",
        "    antonyms = []\n",
        "    hyponyms = set()\n",
        "    hypernyms = set()\n",
        "\n",
        "    for syn_set in wordnet.synsets(word):\n",
        "        for l in syn_set.lemmas():\n",
        "            synonyms.append(l.name())\n",
        "            if l.antonyms():\n",
        "                antonyms.append(l.antonyms()[0].name())\n",
        "        hyponyms.update(syn_set.hyponyms())\n",
        "        hypernyms.update(get_hypernyms(word))\n",
        "\n",
        "    synonyms_set = set(synonyms)\n",
        "    antonyms_set = set(antonyms)\n",
        "\n",
        "    print(f\"Word: {word}\")\n",
        "    print(f\"Hyponyms: {hyponyms}\")\n",
        "    print(f\"Hypernyms: {hypernyms}\")\n",
        "    print(\"\\n\")\n"
      ],
      "metadata": {
        "colab": {
          "base_uri": "https://localhost:8080/"
        },
        "id": "YXUsTx3NbNl8",
        "outputId": "e5400b47-a64a-4cb4-eb10-00395e0ea17a"
      },
      "execution_count": 8,
      "outputs": [
        {
          "output_type": "stream",
          "name": "stdout",
          "text": [
            "Word: bear\n",
            "Hyponyms: {Synset('deal.v.08'), Synset('ice_bear.n.01'), Synset('carry.v.26'), Synset('sit_out.v.02'), Synset('fawn.v.03'), Synset('assert.v.03'), Synset('take_lying_down.v.01'), Synset('lamb.v.01'), Synset('farrow.v.01'), Synset('pay.v.09'), Synset('crop.v.03'), Synset('face_the_music.v.01'), Synset('retain.v.01'), Synset('walk_around.v.03'), Synset('poise.v.04'), Synset('cub.v.01'), Synset('drop.v.23'), Synset('calve.v.02'), Synset('foal.v.01'), Synset('frogmarch.v.02'), Synset('stoop.v.05'), Synset('bear_up.v.01'), Synset('overbear.v.02'), Synset('fruit.v.02'), Synset('accept.v.07'), Synset('stand_for.v.04'), Synset('take_a_joke.v.01'), Synset('behave.v.02'), Synset('net.v.02'), Synset('whelp.v.01'), Synset('american_black_bear.n.01'), Synset('piggyback.v.04'), Synset('twin.v.04'), Synset('asiatic_black_bear.n.01'), Synset('bruin.n.01'), Synset('sling.v.04'), Synset('brown_bear.n.01'), Synset('kitten.v.01'), Synset('spin_off.v.01'), Synset('pose.v.04'), Synset('pay_off.v.01'), Synset('sloth_bear.n.01'), Synset('litter.v.03'), Synset('bear_cub.n.01'), Synset('have_a_bun_in_the_oven.v.01'), Synset('fluster.v.01'), Synset('seed.v.03'), Synset('enclose.v.02')}\n",
            "Hypernyms: {'deliver', 'countenance', 'carry', 'transport', 'include', 'act', 'make', 'take', 'create', 'give_birth', 'birth', 'hold', 'bring_in', 'take_in', 'gain', 'clear', 'pull_in', 'let', 'realise', 'bring_forth', 'have_got', 'carnivore', 'earn', 'permit', 'move', 'feature', 'realize', 'have', 'allow', 'investor', 'bear', 'produce'}\n",
            "\n",
            "\n",
            "Word: set\n",
            "Hyponyms: {Synset('imbricate.v.01'), Synset('match.v.05'), Synset('settle.v.01'), Synset('field.n.10'), Synset('horsy_set.n.01'), Synset('afforest.v.01'), Synset('domain.n.03'), Synset('set_up.v.04'), Synset('four_hundred.n.01'), Synset('reset.v.02'), Synset('intersection.n.03'), Synset('tee.v.01'), Synset('attune.v.01'), Synset('arrange.v.01'), Synset('provide.v.07'), Synset('group.n.03'), Synset('emplace.v.01'), Synset('time.v.05'), Synset('recess.v.01'), Synset('price.v.01'), Synset('insert.v.02'), Synset('modulate.v.04'), Synset('diagonal.n.04'), Synset('marshal.v.01'), Synset('precondition.v.01'), Synset('seat.v.07'), Synset('lay.v.02'), Synset('zero.v.01'), Synset('trio.n.04'), Synset('mathematical_space.n.01'), Synset('root.v.03'), Synset('glycerolize.v.01'), Synset('union.n.08'), Synset('intersection.n.04'), Synset('juxtapose.v.01'), Synset('prepose.v.01'), Synset('harmonize.v.05'), Synset('bracket.n.01'), Synset('interval.n.02'), Synset('threescore.n.01'), Synset('chess_set.n.01'), Synset('prime.v.01'), Synset('format.v.02'), Synset('null_set.n.01'), Synset('charge.v.22'), Synset('name.v.05'), Synset('winterize.v.01'), Synset('score.n.04'), Synset('core.n.01'), Synset('tune.v.02'), Synset('parallelize.v.01'), Synset('shelve.v.02'), Synset('trench.v.04'), Synset('replace.v.03'), Synset('coffin.v.01'), Synset('ground.v.03'), Synset('checkrow.v.01'), Synset('justify.v.05'), Synset('underlay.v.02'), Synset('suite.n.04'), Synset('put.v.08'), Synset('plant.v.05'), Synset('space.v.01'), Synset('universal_set.n.01'), Synset('singleton.n.02'), Synset('docket.v.01'), Synset('cohort.n.02'), Synset('cram.v.04'), Synset('load.v.04'), Synset('octet.n.03'), Synset('time.v.04'), Synset('depressurize.v.01'), Synset('step.v.08'), Synset('install.v.01'), Synset('jar.v.05'), Synset('transpose.v.05'), Synset('bed.v.02'), Synset('intersperse.v.01'), Synset('lean.v.02'), Synset('tune.v.01'), Synset('wave.v.05'), Synset('value.v.01'), Synset('synset.n.01'), Synset('replant.v.01'), Synset('dispose.v.04'), Synset('linearize.v.01'), Synset('upend.v.02'), Synset('temper.v.03'), Synset('middle.v.01'), Synset('cock.v.02'), Synset('define.v.02'), Synset('congealment.n.01'), Synset('keynote.v.01'), Synset('ensconce.v.01'), Synset('dibble.v.01'), Synset('septet.n.03'), Synset('synchronize.v.01'), Synset('set.v.16'), Synset('portfolio.n.02'), Synset('transmitter.n.03'), Synset('repose.v.06'), Synset('brace.v.01'), Synset('filiate.v.01'), Synset('postpose.v.01'), Synset('socialize.v.03'), Synset('field.n.13'), Synset('advance.v.11'), Synset('cram.v.02'), Synset('pillow.v.01'), Synset('butt.v.03'), Synset('align.v.04'), Synset('reset.v.01'), Synset('solution.n.04'), Synset('pair.n.01'), Synset('bucket.v.01'), Synset('rest.v.08'), Synset('set_down.v.04'), Synset('image.n.07'), Synset('choir.n.02'), Synset('seat.v.06'), Synset('party.n.03'), Synset('subset.n.01'), Synset('emplace.v.02'), Synset('misplace.v.01'), Synset('summerize.v.01'), Synset('appose.v.01'), Synset('prearrange.v.01'), Synset('sign.v.06'), Synset('plumb.v.04'), Synset('situate.v.02'), Synset('locus.n.03'), Synset('field.n.12'), Synset('pitch.v.04'), Synset('car_pool.n.01'), Synset('cultivate.v.02'), Synset('calibrate.v.01'), Synset('bob.v.05'), Synset('mandelbrot_set.n.01'), Synset('superimpose.v.01'), Synset('table.v.02'), Synset('conjugation.n.03'), Synset('sextet.n.04'), Synset('seat.v.01'), Synset('date.v.03'), Synset('zero.v.02'), Synset('set_down.v.03'), Synset('superpose.v.01'), Synset('citify.v.01'), Synset('rack_up.v.02'), Synset('identify.v.01'), Synset('trim.v.09'), Synset('quintet.n.04'), Synset('scenery.n.01'), Synset('perch.v.03'), Synset('bottle.v.02'), Synset('clique.n.01'), Synset('pressurize.v.03'), Synset('position.v.01'), Synset('reposition.v.02'), Synset('plant.v.01'), Synset('throw.v.08'), Synset('barrel.v.01'), Synset('clap.v.01'), Synset('set.v.08'), Synset('ladle.v.01'), Synset('poise.v.03'), Synset('sow.v.01'), Synset('bed.v.03'), Synset('manicure_set.n.01'), Synset('regulate.v.01'), Synset('quartet.n.03'), Synset('ship.v.05'), Synset('recline.v.02'), Synset('pigeonhole.v.01'), Synset('throw.v.04'), Synset('stand.v.10'), Synset('siphon.v.02'), Synset('mount.v.03'), Synset('readjust.v.02'), Synset('focus.v.05'), Synset('proportion.v.02'), Synset('field.n.15'), Synset('receiver.n.01'), Synset('quantify.v.01'), Synset('nestle.v.03'), Synset('jet_set.n.01'), Synset('puddle.v.03'), Synset('park.v.01'), Synset('stratify.v.04'), Synset('fix.v.07'), Synset('initialize.v.01'), Synset('misplace.v.02'), Synset('tree.v.02'), Synset('conspiracy.n.03'), Synset('tax.v.02'), Synset('dentition.n.02'), Synset('pile.v.03')}\n",
            "Hypernyms: {'select', 'solidify', 'gauge', 'arrange', 'position', 'correct', 'start', 'natural_action', 'ready', 'write', 'pick_out', 'establish', 'approximate', 'alter', 'modify', 'lay', 'physical_exertion', 'fit', 'guess', 'groom', 'prepare', 'abstract_entity', 'locating', 'inclination', 'make', 'cognitive_state', 'print', 'gear_up', 'set_on', 'impress', 'judge', 'aggregation', 'workout', 'sink', 'bury', 'fix', 'go_down', 'social_group', 'tendency', 'pose', 'reproduce', 'move', 'period_of_play', 'fall', 'estimate', 'procreate', 'state_of_mind', 'lay_down', 'abstraction', 'equip', 'attack', 'set_up', 'placement', 'present', 'come_down', 'take', 'accumulation', 'compose', 'place', 'collection', 'positioning', 'fit_out', 'assail', 'assemblage', 'exercise', 'adjust', 'hone', 'choose', 'play', 'physical_exercise', 'represent', 'assault', 'neaten', 'emplacement', 'playing_period', 'activity', 'displace', 'originate', 'representation', 'action', 'location', 'put', 'natural_process', 'descent', 'electronic_equipment', 'set', 'outfit', 'stage', 'disposition', 'change', 'descend', 'multiply', 'initiate', 'exercising'}\n",
            "\n",
            "\n",
            "Word: square\n",
            "Hyponyms: {Synset('quadrate.n.02'), Synset('try_square.n.01'), Synset('t-square.n.01'), Synset('plaza.n.01'), Synset('carpenter's_square.n.01'), Synset('square_up.v.02')}\n",
            "Hypernyms: {'rectangle', 'parcel', 'agree', 'check', 'parcel_of_land', 'number', 'gibe', 'position', 'tally', 'adapt', 'row', 'regular_polygon', 'tract', 'piece_of_land', 'paddle', 'piece_of_ground', 'correspond', 'settle', 'form', 'simple', 'adjust', 'shape', 'artefact', 'hand_tool', 'fit', 'simpleton', 'match', 'jibe', 'conservative', 'conservativist', 'multiply', 'conform', 'artifact'}\n",
            "\n",
            "\n",
            "Word: lead\n",
            "Hyponyms: {Synset('lead.v.04'), Synset('mislead.v.01'), Synset('give.v.39'), Synset('hard_lead.n.01'), Synset('usher.v.01'), Synset('co-star.n.01'), Synset('beacon.v.02'), Synset('hard_lead.n.02'), Synset('television_star.n.01'), Synset('pig_lead.n.01'), Synset('take_hold.v.01'), Synset('film_star.n.01'), Synset('chair.v.01'), Synset('spearhead.v.01'), Synset('entail.v.02'), Synset('draw_away.v.01'), Synset('come.v.09'), Synset('radiate.v.03'), Synset('clip_lead.n.01'), Synset('hand.v.02'), Synset('lead.v.03'), Synset('idol.n.02'), Synset('captain.v.01'), Synset('necessitate.v.02'), Synset('go_far.v.02')}\n",
            "Hypernyms: {'score', 'conducting_wire', 'cause', 'strip', 'counsel', 'position', 'player', 'guidance', 'section', 'metallic_element', 'induce', 'actor', 'go', 'counseling', 'grounds', 'black_lead', 'graphite', 'place', 'leadership', 'discuss', 'give_rise', 'slip', 'subdivision', 'lead', 'make_pass', 'be', 'do', 'talk_over', 'travel', 'leading', 'play', 'locomote', 'bring_about', 'result', 'newspaper_article', 'role_player', 'plumbago', 'have', 'perform', 'direct', 'boost', 'produce', 'turn', 'get', 'thespian', 'precede', 'advance', 'jumper', 'news_story', 'encourage', 'make', 'direction', 'further', 'timing', 'promote', 'wire', 'counselling', 'stimulate', 'histrion', 'vantage', 'constraint', 'leave', 'hash_out', 'pass', 'angle', 'metal', 'move', 'evidence', 'advantage', 'execute', 'restraint', 'news_article'}\n",
            "\n",
            "\n",
            "Word: criteria\n",
            "Hyponyms: {Synset('scale.n.01'), Synset('yardstick.n.01'), Synset('baseline.n.01'), Synset('grade_point_average.n.01'), Synset('norm.n.01'), Synset('design_criteria.n.01'), Synset('control_condition.n.01'), Synset('medium_of_exchange.n.01'), Synset('earned_run_average.n.01'), Synset('benchmark.n.01'), Synset('gauge.n.02'), Synset('procrustean_standard.n.01')}\n",
            "Hypernyms: {'ideal', 'system_of_measurement', 'metric'}\n",
            "\n",
            "\n"
          ]
        }
      ]
    },
    {
      "cell_type": "code",
      "source": [
        "from nltk.corpus import wordnet\n",
        "\n",
        "words_to_check = [\"square\", \"bear\", \"set\", \"lead\", \"criteria\"]\n",
        "for word in words_to_check:\n",
        "    synonyms = []\n",
        "    nouns = set()\n",
        "\n",
        "    for syn_set in wordnet.synsets(word):\n",
        "        for lemma in syn_set.lemmas():\n",
        "            if lemma.synset().pos() == 'n': # 'n' denotes noun\n",
        "                nouns.add(lemma.name())\n",
        "            synonyms.append(lemma.name())\n",
        "\n",
        "    synonyms_set = set(synonyms)\n",
        "\n",
        "    print(f\"Word: {word}\")\n",
        "    print(f\"Nouns of '{word}': {nouns}\")\n",
        "    print(\"\\n\")\n"
      ],
      "metadata": {
        "colab": {
          "base_uri": "https://localhost:8080/"
        },
        "id": "rAqKr0SHddNC",
        "outputId": "299931d7-f20f-432d-ff39-a578688b66a8"
      },
      "execution_count": null,
      "outputs": [
        {
          "output_type": "stream",
          "name": "stdout",
          "text": [
            "Word: square\n",
            "Nouns of 'square': {'square', 'foursquare', 'second_power', 'public_square', 'lame', 'square_toes'}\n",
            "\n",
            "\n",
            "Word: bear\n",
            "Nouns of 'bear': {'bear'}\n",
            "\n",
            "\n",
            "Word: set\n",
            "Nouns of 'set': {'exercise_set', 'set', 'circle', 'hardening', 'solidifying', 'curing', 'Seth', 'band', 'readiness', 'Set', 'solidification', 'stage_set', 'lot', 'bent'}\n",
            "\n",
            "\n",
            "Word: lead\n",
            "Nouns of 'lead': {'spark_advance', 'principal', 'Pb', 'jumper_cable', 'tether', 'jumper_lead', 'booster_cable', 'leading', 'lede', 'lead-in', 'confidential_information', 'pencil_lead', 'lead_story', 'lead', 'wind', 'atomic_number_82', 'leash', 'track', 'steer', 'star', 'tip', 'trail', 'hint'}\n",
            "\n",
            "\n",
            "Word: criteria\n",
            "Nouns of 'criteria': {'touchstone', 'measure', 'standard', 'criterion'}\n",
            "\n",
            "\n"
          ]
        }
      ]
    },
    {
      "cell_type": "code",
      "source": [
        "for word in words_to_check:\n",
        "    verbs = set()\n",
        "\n",
        "    for syn_set in wordnet.synsets(word):\n",
        "        for lemma in syn_set.lemmas():\n",
        "            synonyms.append(lemma.name())\n",
        "            if lemma.synset().pos() == 'v':  # 'v' denotes verb\n",
        "                verbs.add(lemma.name())\n",
        "\n",
        "    synonyms_set = set(synonyms)\n",
        "\n",
        "    print(f\"Word: {word}\")\n",
        "    print(f\"Verbs of '{word}': {verbs}\")\n",
        "    print(\"\\n\")\n"
      ],
      "metadata": {
        "colab": {
          "base_uri": "https://localhost:8080/"
        },
        "id": "CQYExxXceKP5",
        "outputId": "d01079a5-529f-45f3-8895-8c58bb2d5758"
      },
      "execution_count": null,
      "outputs": [
        {
          "output_type": "stream",
          "name": "stdout",
          "text": [
            "Word: square\n",
            "Verbs of 'square': {'square_up', 'feather', 'square'}\n",
            "\n",
            "\n",
            "Word: bear\n",
            "Verbs of 'bear': {'yield', 'bear', 'take_over', 'tolerate', 'stomach', 'deport', 'expect', 'abide', 'comport', 'birth', 'support', 'deliver', 'suffer', 'brook', 'accept', 'have_a_bun_in_the_oven', 'gestate', 'stand', 'put_up', 'conduct', 'stick_out', 'give_birth', 'digest', 'hold', 'assume', 'have', 'turn_out', 'behave', 'endure', 'wear', 'pay', 'carry', 'acquit', 'contain'}\n",
            "\n",
            "\n",
            "Word: set\n",
            "Verbs of 'set': {'go_down', 'determine', 'put', 'congeal', 'jell', 'localize', 'rig', 'arrange', 'ready', 'lay_out', 'coiffe', 'set_up', 'set', 'do', 'lay', 'define', 'fix', 'position', 'sic', 'coif', 'pose', 'localise', 'limit', 'mark', 'go_under', 'countersink', 'gear_up', 'adjust', 'plant', 'typeset', 'dress', 'place', 'correct', 'fructify', 'coiffure', 'prepare', 'specify'}\n",
            "\n",
            "\n",
            "Word: lead\n",
            "Verbs of 'lead': {'lead', 'precede', 'extend', 'result', 'head', 'chair', 'go', 'pass', 'guide', 'moderate', 'take', 'conduce', 'leave', 'top', 'contribute', 'run', 'conduct', 'direct'}\n",
            "\n",
            "\n",
            "Word: criteria\n",
            "Verbs of 'criteria': set()\n",
            "\n",
            "\n"
          ]
        }
      ]
    },
    {
      "cell_type": "code",
      "source": [
        "for word in words_to_check:\n",
        "\n",
        "    adjectives = set()\n",
        "\n",
        "\n",
        "    for syn_set in wordnet.synsets(word):\n",
        "        for lemma in syn_set.lemmas():\n",
        "            synonyms.append(lemma.name())\n",
        "            if lemma.synset().pos() == 'a':  # 'a' denotes adjective\n",
        "                 adjectives.add(lemma.name())\n",
        "\n",
        "    synonyms_set = set(synonyms)\n",
        "\n",
        "    print(f\"Word: {word}\")\n",
        "    print(f\"Adjectives of '{word}': {adjectives}\")\n",
        "    print(\"\\n\")\n"
      ],
      "metadata": {
        "colab": {
          "base_uri": "https://localhost:8080/"
        },
        "id": "DXU6iRWLfFn3",
        "outputId": "e8c02aa2-ec18-4747-fbe2-b81a2f63f3ef"
      },
      "execution_count": null,
      "outputs": [
        {
          "output_type": "stream",
          "name": "stdout",
          "text": [
            "Word: square\n",
            "Adjectives of 'square': {'straight', 'square'}\n",
            "\n",
            "\n",
            "Word: bear\n",
            "Adjectives of 'bear': set()\n",
            "\n",
            "\n",
            "Word: set\n",
            "Adjectives of 'set': set()\n",
            "\n",
            "\n",
            "Word: lead\n",
            "Adjectives of 'lead': set()\n",
            "\n",
            "\n",
            "Word: criteria\n",
            "Adjectives of 'criteria': set()\n",
            "\n",
            "\n"
          ]
        }
      ]
    },
    {
      "cell_type": "code",
      "source": [
        "for word in words_to_check:\n",
        "\n",
        "    adverbs = set()\n",
        "\n",
        "    for syn_set in wordnet.synsets(word):\n",
        "        for lemma in syn_set.lemmas():\n",
        "            synonyms.append(lemma.name())\n",
        "            if lemma.synset().pos() == 'r':  #'r' denotes adverb\n",
        "                verbs.add(lemma.name())\n",
        "\n",
        "    synonyms_set = set(synonyms)\n",
        "\n",
        "    print(f\"Word: {word}\")\n",
        "    print(f\"Adverbs of '{word}': {adverbs}\")\n",
        "    print(\"\\n\")\n"
      ],
      "metadata": {
        "colab": {
          "base_uri": "https://localhost:8080/"
        },
        "id": "HzMj5XFMgAM0",
        "outputId": "49069064-c2a2-4a0b-e8f9-194a41e19b51"
      },
      "execution_count": null,
      "outputs": [
        {
          "output_type": "stream",
          "name": "stdout",
          "text": [
            "Word: square\n",
            "Adverbs of 'square': set()\n",
            "\n",
            "\n",
            "Word: bear\n",
            "Adverbs of 'bear': set()\n",
            "\n",
            "\n",
            "Word: set\n",
            "Adverbs of 'set': set()\n",
            "\n",
            "\n",
            "Word: lead\n",
            "Adverbs of 'lead': set()\n",
            "\n",
            "\n",
            "Word: criteria\n",
            "Adverbs of 'criteria': set()\n",
            "\n",
            "\n"
          ]
        }
      ]
    },
    {
      "cell_type": "code",
      "source": [
        "from nltk.corpus import wordnet\n",
        "\n",
        "# Define the list of words\n",
        "words_list = [\"dog\", \"cat\", \"bird\",\"bear\"]\n",
        "\n",
        "# Create a dictionary with word definitions\n",
        "definitions_dict = {word: wordnet.synsets(word)[0].definition() for word in words_list}\n",
        "\n",
        "# Print the definitions\n",
        "for word, definition in definitions_dict.items():\n",
        "    print(f\"{word}: {definition}\")\n"
      ],
      "metadata": {
        "id": "vkXzK4qKIABB",
        "outputId": "9ac8155d-ff84-4ac2-a770-01f9e74cb85a",
        "colab": {
          "base_uri": "https://localhost:8080/"
        }
      },
      "execution_count": 13,
      "outputs": [
        {
          "output_type": "stream",
          "name": "stdout",
          "text": [
            "dog: a member of the genus Canis (probably descended from the common wolf) that has been domesticated by man since prehistoric times; occurs in many breeds\n",
            "cat: feline mammal usually having thick soft fur and no ability to roar: domestic cats; wildcats\n",
            "bird: warm-blooded egg-laying vertebrates characterized by feathers and forelimbs modified as wings\n",
            "bear: massive plantigrade carnivorous or omnivorous mammals with long shaggy coats and strong claws\n"
          ]
        }
      ]
    }
  ]
}